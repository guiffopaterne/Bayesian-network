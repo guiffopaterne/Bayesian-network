{
 "cells": [
  {
   "cell_type": "markdown",
   "id": "af96f7d7-0756-4545-903e-10a7a489c2a4",
   "metadata": {},
   "source": [
    "INFO 4248 TP **Keras et les Techniques d'optimisation**\n",
    "\n",
    "\n",
    "---\n",
    "\n",
    "\n",
    "\n",
    "LISTE DES ETUDIANTS\n",
    "- GUIFFO WAFFO PATERNE 20V2904\n",
    "- MONGOUE MFOUT ASSANA COCO 18T2426\n",
    "- MONGUE NZIE OUSSENA MIGNON 18T2424\n",
    "- OWONA FOUDA JEAN EDOUARD 13H2643\n",
    "***\n",
    " Sous la supervision de DR MELATAGIA PAULIN"
   ]
  },
  {
   "cell_type": "markdown",
   "id": "7b84bf65-20a3-442b-981c-8226e32ef4d3",
   "metadata": {},
   "source": [
    "## Presentation du Travail à faire\n",
    "***\n",
    "Dans ce Notebook nous allons :\n",
    "1- importer un jeu de données Mnist depuis google\n",
    "2- contruction un MLP avec des coouches Dense\n",
    "3- Utiliser dans ce reseau de neurone 03 fonctions de perte et 08 optimiseur de Keras\n",
    "4- Faire un reprensentation de l'acuurency en fonction de la fonction de perte et de l'optimisateur\n",
    "5- faire une analyse et discussion\n"
   ]
  },
  {
   "cell_type": "markdown",
   "id": "2fff54d7-1f71-44cf-baef-f038f9f10ccd",
   "metadata": {},
   "source": [
    "### Importation des paquages necessaire"
   ]
  },
  {
   "cell_type": "markdown",
   "id": "37143bd8-d24a-4f35-8e46-5991605652b7",
   "metadata": {},
   "source": [
    "from tensorflow.keras import optimizers,Sequential,layers\n",
    "from tensorflow.keras.models import clone_model\n",
    "from tensorflow.keras.losses import LogCosh, SparseCategoricalCrossentropy,MeanSquaredLogarithmicError\n",
    "import datetime"
   ]
  },
  {
   "cell_type": "markdown",
   "id": "3547629f-0e08-4500-bfaf-1f182f41343b",
   "metadata": {},
   "source": [
    "1- SparseCategoricalCrossentropy \n",
    "2- MeanSquaredLogarithmicError\n",
    "3- LogCosh"
   ]
  },
  {
   "cell_type": "code",
   "execution_count": 3,
   "id": "3cf93ae7-1d14-4364-b454-8819afc1488b",
   "metadata": {},
   "outputs": [],
   "source": [
    "learning_rate = 0.1\n",
    "momentum = 0.0\n",
    "epsilon=1e-07\n",
    "rho = 0.9"
   ]
  },
  {
   "cell_type": "markdown",
   "id": "b4e7be36-d185-4f11-b29c-7526935d31a6",
   "metadata": {},
   "source": [
    "#### Instanciation des optimiseurs et des fonctions de perte"
   ]
  },
  {
   "cell_type": "code",
   "execution_count": 4,
   "id": "ade5ef2b-81c9-4666-bcfe-4750898b56c9",
   "metadata": {},
   "outputs": [],
   "source": [
    "SGD = optimizers.SGD(learning_rate=learning_rate)\n",
    "Adagrad = optimizers.Adagrad(learning_rate=learning_rate,epsilon=epsilon)\n",
    "RMSprop = optimizers.RMSprop(learning_rate=learning_rate,epsilon=epsilon)\n",
    "Adam = optimizers.Adam(learning_rate=learning_rate,epsilon=epsilon)\n",
    "Adadelta= optimizers.Adadelta(learning_rate=learning_rate,epsilon=epsilon)\n",
    "Adamax = optimizers.Adamax(learning_rate=learning_rate,epsilon=epsilon)\n",
    "Nadam = optimizers.Nadam(learning_rate=learning_rate,epsilon=epsilon)\n",
    "Ftrl = optimizers.Ftrl(learning_rate=learning_rate)"
   ]
  },
  {
   "cell_type": "code",
   "execution_count": 5,
   "id": "16240bcb-2444-4f1f-baaa-fb89d09344a5",
   "metadata": {},
   "outputs": [],
   "source": [
    "cross_entropy = SparseCategoricalCrossentropy(from_logits=True)\n",
    "logcoh = LogCosh()\n",
    "mse_log = MeanSquaredLogarithmicError()"
   ]
  },
  {
   "cell_type": "markdown",
   "id": "51f06972-45f9-4005-8ba9-2da32b4b6b7c",
   "metadata": {},
   "source": [
    "contruction des dictionnaires des optimiseurs et des fonctions de perte"
   ]
  },
  {
   "cell_type": "code",
   "execution_count": 6,
   "id": "3e927b7c-e23a-445f-8a7a-605629708949",
   "metadata": {},
   "outputs": [],
   "source": [
    "list_optimisation = {\n",
    "    'sgd':SGD,\n",
    "    'RMSprop':RMSprop, \n",
    "    'Adam':Adam, \n",
    "    'Adadelta':Adadelta, \n",
    "    'Adagrad':Adagrad, \n",
    "    'Adamax':Adamax, \n",
    "    'Nadam':Nadam ,\n",
    "    'Ftrl':Ftrl\n",
    "}\n",
    "list_loss = {'cross_entropy_loss':cross_entropy,\n",
    "             'MSE_loss':mse_log,\n",
    "             'LogCosh':logcoh\n",
    "            }"
   ]
  },
  {
   "cell_type": "markdown",
   "id": "80533d4f-2053-43bf-b5a0-a6ee804644d4",
   "metadata": {},
   "source": [
    "Chargement du dataset digit Mnist"
   ]
  },
  {
   "cell_type": "code",
   "execution_count": 8,
   "id": "8e45c2c6-06d8-48dd-a008-35e8a7a548e4",
   "metadata": {
    "tags": []
   },
   "outputs": [],
   "source": [
    "from tensorflow.keras.datasets import mnist\n",
    "(train_images, train_labels), (test_images, test_labels) = mnist.load_data()"
   ]
  },
  {
   "cell_type": "code",
   "execution_count": 58,
   "id": "08a9a814-ffff-4b3a-85dc-c5bef2fde53f",
   "metadata": {},
   "outputs": [
    {
     "data": {
      "text/plain": [
       "(60000, 28, 28)"
      ]
     },
     "execution_count": 58,
     "metadata": {},
     "output_type": "execute_result"
    }
   ],
   "source": [
    "train_images.shape"
   ]
  },
  {
   "cell_type": "markdown",
   "id": "a685bd90-b7e1-4b03-a431-3f57b1f5af47",
   "metadata": {},
   "source": [
    "#### Contruction du model\n",
    "En entree du modèle nous avons une couche qui prend en entre une image soit 28*28 neurones dans la premiere couche\n",
    "puis nous avons 3 couches cachées avec pour fonction d'activation ReLu  \n",
    "En sortie une couche avec 10 neurones qui sont nos classes, sont activation softmax est pour une distribution de probabilité et\n",
    "la classe ayant la plus grande probabilité l'importe"
   ]
  },
  {
   "cell_type": "code",
   "execution_count": 12,
   "id": "4143daf2-f033-4513-bd97-1b124ff63446",
   "metadata": {
    "tags": []
   },
   "outputs": [
    {
     "name": "stderr",
     "output_type": "stream",
     "text": [
      "2022-04-21 17:58:52.065053: W tensorflow/stream_executor/platform/default/dso_loader.cc:64] Could not load dynamic library 'libcuda.so.1'; dlerror: libcuda.so.1: cannot open shared object file: No such file or directory\n",
      "2022-04-21 17:58:52.065172: W tensorflow/stream_executor/cuda/cuda_driver.cc:269] failed call to cuInit: UNKNOWN ERROR (303)\n",
      "2022-04-21 17:58:52.065287: I tensorflow/stream_executor/cuda/cuda_diagnostics.cc:156] kernel driver does not appear to be running on this host (gwp): /proc/driver/nvidia/version does not exist\n",
      "2022-04-21 17:58:52.104209: I tensorflow/core/platform/cpu_feature_guard.cc:151] This TensorFlow binary is optimized with oneAPI Deep Neural Network Library (oneDNN) to use the following CPU instructions in performance-critical operations:  AVX2 FMA\n",
      "To enable them in other operations, rebuild TensorFlow with the appropriate compiler flags.\n"
     ]
    }
   ],
   "source": [
    "model = Sequential([\n",
    "    layers.Flatten(input_shape=(28, 28)),\n",
    "    layers.Dense(128, activation='relu'),\n",
    "    layers.Dense(128, activation='relu'),\n",
    "    layers.Dense(128, activation='relu'),\n",
    "    layers.Dense(10,activation='softmax')\n",
    "])"
   ]
  },
  {
   "cell_type": "markdown",
   "id": "3bcbf827-e79b-4ce0-b755-3f9ba06ad251",
   "metadata": {},
   "source": [
    "### Compilation du modèle\n",
    "Dans le soucis d'avoir une même initialisation pour nous experimentation nous allons conserver le reseau prealablement crée puis nous allons le compiler et l'entrainé sur 5 epoque et ces operation se ferons pour un optimiseur et une fonction de perte\n",
    "ex: Adagrad ----SparseCategoricalCrossentropy"
   ]
  },
  {
   "cell_type": "code",
   "execution_count": 13,
   "id": "d2da375e-ce84-4839-9bc3-0dc6771a0347",
   "metadata": {
    "collapsed": true,
    "jupyter": {
     "outputs_hidden": true
    },
    "tags": []
   },
   "outputs": [
    {
     "name": "stdout",
     "output_type": "stream",
     "text": [
      " contruction du modèle cross_entropy_loss avec l'optimiseur sgd\n"
     ]
    },
    {
     "name": "stderr",
     "output_type": "stream",
     "text": [
      "2022-04-21 17:59:03.799801: W tensorflow/core/framework/cpu_allocator_impl.cc:82] Allocation of 47040000 exceeds 10% of free system memory.\n"
     ]
    },
    {
     "name": "stdout",
     "output_type": "stream",
     "text": [
      "Epoch 1/5\n"
     ]
    },
    {
     "name": "stderr",
     "output_type": "stream",
     "text": [
      "/home/gwp/anaconda3/lib/python3.9/site-packages/tensorflow/python/util/dispatch.py:1082: UserWarning: \"`sparse_categorical_crossentropy` received `from_logits=True`, but the `output` argument was produced by a sigmoid or softmax activation and thus does not represent logits. Was this intended?\"\n",
      "  return dispatch_target(*args, **kwargs)\n"
     ]
    },
    {
     "name": "stdout",
     "output_type": "stream",
     "text": [
      "1875/1875 [==============================] - 5s 2ms/step - loss: nan - accuracy: 0.0987\n",
      "Epoch 2/5\n",
      "1875/1875 [==============================] - 4s 2ms/step - loss: nan - accuracy: 0.0987\n",
      "Epoch 3/5\n",
      "1875/1875 [==============================] - 4s 2ms/step - loss: nan - accuracy: 0.0987\n",
      "Epoch 4/5\n",
      "1875/1875 [==============================] - 4s 2ms/step - loss: nan - accuracy: 0.0987\n",
      "Epoch 5/5\n",
      "1875/1875 [==============================] - 4s 2ms/step - loss: nan - accuracy: 0.0987\n",
      "313/313 - 1s - loss: nan - accuracy: 0.0980 - 501ms/epoch - 2ms/step\n",
      " contruction du modèle MSE_loss avec l'optimiseur sgd\n",
      "Epoch 1/5\n"
     ]
    },
    {
     "name": "stderr",
     "output_type": "stream",
     "text": [
      "2022-04-21 17:59:25.911963: W tensorflow/core/framework/cpu_allocator_impl.cc:82] Allocation of 47040000 exceeds 10% of free system memory.\n"
     ]
    },
    {
     "name": "stdout",
     "output_type": "stream",
     "text": [
      "1875/1875 [==============================] - 5s 2ms/step - loss: 2.5742 - accuracy: 0.0986\n",
      "Epoch 2/5\n",
      "1875/1875 [==============================] - 4s 2ms/step - loss: 2.5742 - accuracy: 0.0987\n",
      "Epoch 3/5\n",
      "1875/1875 [==============================] - 4s 2ms/step - loss: 2.5742 - accuracy: 0.0987\n",
      "Epoch 4/5\n",
      "1875/1875 [==============================] - 4s 2ms/step - loss: 2.5742 - accuracy: 0.0987\n",
      "Epoch 5/5\n",
      "1875/1875 [==============================] - 4s 2ms/step - loss: 2.5742 - accuracy: 0.0987\n",
      "313/313 - 0s - loss: 2.5670 - accuracy: 0.0958 - 433ms/epoch - 1ms/step\n",
      " contruction du modèle LogCosh avec l'optimiseur sgd\n",
      "Epoch 1/5\n"
     ]
    },
    {
     "name": "stderr",
     "output_type": "stream",
     "text": [
      "2022-04-21 17:59:46.824330: W tensorflow/core/framework/cpu_allocator_impl.cc:82] Allocation of 47040000 exceeds 10% of free system memory.\n"
     ]
    },
    {
     "name": "stdout",
     "output_type": "stream",
     "text": [
      "1875/1875 [==============================] - 4s 2ms/step - loss: 3.7673 - accuracy: 0.0971\n",
      "Epoch 2/5\n",
      "1875/1875 [==============================] - 4s 2ms/step - loss: 3.7673 - accuracy: 0.0859\n",
      "Epoch 3/5\n",
      "1875/1875 [==============================] - 4s 2ms/step - loss: 3.7673 - accuracy: 0.0891\n",
      "Epoch 4/5\n",
      "1875/1875 [==============================] - 4s 2ms/step - loss: 3.7673 - accuracy: 0.0904\n",
      "Epoch 5/5\n",
      "1875/1875 [==============================] - 4s 2ms/step - loss: 3.7673 - accuracy: 0.0904\n",
      "313/313 - 0s - loss: 3.7565 - accuracy: 0.0893 - 437ms/epoch - 1ms/step\n",
      " contruction du modèle cross_entropy_loss avec l'optimiseur RMSprop\n",
      "Epoch 1/5\n"
     ]
    },
    {
     "name": "stderr",
     "output_type": "stream",
     "text": [
      "2022-04-21 18:00:06.779781: W tensorflow/core/framework/cpu_allocator_impl.cc:82] Allocation of 47040000 exceeds 10% of free system memory.\n"
     ]
    },
    {
     "name": "stdout",
     "output_type": "stream",
     "text": [
      "1875/1875 [==============================] - 5s 3ms/step - loss: 3582.7698 - accuracy: 0.1031\n",
      "Epoch 2/5\n",
      "1875/1875 [==============================] - 5s 3ms/step - loss: 2.4161 - accuracy: 0.1048\n",
      "Epoch 3/5\n",
      "1875/1875 [==============================] - 5s 3ms/step - loss: 2.3147 - accuracy: 0.1018\n",
      "Epoch 4/5\n",
      "1875/1875 [==============================] - 5s 3ms/step - loss: 2.3144 - accuracy: 0.1041\n",
      "Epoch 5/5\n",
      "1875/1875 [==============================] - 5s 3ms/step - loss: 2.3147 - accuracy: 0.1051\n",
      "313/313 - 0s - loss: 2.3270 - accuracy: 0.1135 - 437ms/epoch - 1ms/step\n",
      " contruction du modèle MSE_loss avec l'optimiseur RMSprop\n",
      "Epoch 1/5\n"
     ]
    },
    {
     "name": "stderr",
     "output_type": "stream",
     "text": [
      "2022-04-21 18:00:32.874920: W tensorflow/core/framework/cpu_allocator_impl.cc:82] Allocation of 47040000 exceeds 10% of free system memory.\n"
     ]
    },
    {
     "name": "stdout",
     "output_type": "stream",
     "text": [
      "1875/1875 [==============================] - 6s 3ms/step - loss: 2.5742 - accuracy: 0.1044\n",
      "Epoch 2/5\n",
      "1875/1875 [==============================] - 5s 3ms/step - loss: 2.5742 - accuracy: 0.1044\n",
      "Epoch 3/5\n",
      "1875/1875 [==============================] - 5s 3ms/step - loss: 2.5742 - accuracy: 0.1044\n",
      "Epoch 4/5\n",
      "1875/1875 [==============================] - 5s 3ms/step - loss: 2.5742 - accuracy: 0.1044\n",
      "Epoch 5/5\n",
      "1875/1875 [==============================] - 5s 3ms/step - loss: 2.5742 - accuracy: 0.1044\n",
      "313/313 - 0s - loss: 2.5670 - accuracy: 0.1028 - 438ms/epoch - 1ms/step\n",
      " contruction du modèle LogCosh avec l'optimiseur RMSprop\n",
      "Epoch 1/5\n",
      "1875/1875 [==============================] - 6s 3ms/step - loss: 3.7673 - accuracy: 0.0904\n",
      "Epoch 2/5\n",
      "1875/1875 [==============================] - 5s 3ms/step - loss: 3.7673 - accuracy: 0.0904\n",
      "Epoch 3/5\n",
      "1875/1875 [==============================] - 5s 3ms/step - loss: 3.7673 - accuracy: 0.0904\n",
      "Epoch 4/5\n",
      "1875/1875 [==============================] - 6s 3ms/step - loss: 3.7673 - accuracy: 0.0904\n",
      "Epoch 5/5\n",
      "1875/1875 [==============================] - 5s 3ms/step - loss: 3.7673 - accuracy: 0.0904\n",
      "313/313 - 0s - loss: 3.7565 - accuracy: 0.0892 - 452ms/epoch - 1ms/step\n",
      " contruction du modèle cross_entropy_loss avec l'optimiseur Adam\n",
      "Epoch 1/5\n",
      "1875/1875 [==============================] - 5s 2ms/step - loss: 39.3530 - accuracy: 0.1018\n",
      "Epoch 2/5\n",
      "1875/1875 [==============================] - 4s 2ms/step - loss: 2.3136 - accuracy: 0.1027\n",
      "Epoch 3/5\n",
      "1875/1875 [==============================] - 4s 2ms/step - loss: 2.3139 - accuracy: 0.1021\n",
      "Epoch 4/5\n",
      "1875/1875 [==============================] - 5s 2ms/step - loss: 2.3145 - accuracy: 0.1030\n",
      "Epoch 5/5\n",
      "1875/1875 [==============================] - 4s 2ms/step - loss: 2.3142 - accuracy: 0.1032\n",
      "313/313 - 0s - loss: 2.3145 - accuracy: 0.1028 - 441ms/epoch - 1ms/step\n",
      " contruction du modèle MSE_loss avec l'optimiseur Adam\n",
      "Epoch 1/5\n",
      "1875/1875 [==============================] - 5s 2ms/step - loss: 2.5742 - accuracy: 0.0987\n",
      "Epoch 2/5\n",
      "1875/1875 [==============================] - 5s 2ms/step - loss: 2.5742 - accuracy: 0.0986\n",
      "Epoch 3/5\n",
      "1875/1875 [==============================] - 5s 3ms/step - loss: 2.5742 - accuracy: 0.0986\n",
      "Epoch 4/5\n",
      "1875/1875 [==============================] - 4s 2ms/step - loss: 2.5742 - accuracy: 0.0986\n",
      "Epoch 5/5\n",
      "1875/1875 [==============================] - 4s 2ms/step - loss: 2.5742 - accuracy: 0.0986\n",
      "313/313 - 0s - loss: 2.5670 - accuracy: 0.0958 - 445ms/epoch - 1ms/step\n",
      " contruction du modèle LogCosh avec l'optimiseur Adam\n",
      "Epoch 1/5\n",
      "1875/1875 [==============================] - 4s 2ms/step - loss: 3.7673 - accuracy: 0.0986\n",
      "Epoch 2/5\n",
      "1875/1875 [==============================] - 4s 2ms/step - loss: 3.7673 - accuracy: 0.0986\n",
      "Epoch 3/5\n",
      "1875/1875 [==============================] - 5s 2ms/step - loss: 3.7673 - accuracy: 0.0986\n",
      "Epoch 4/5\n",
      "1875/1875 [==============================] - 4s 2ms/step - loss: 3.7674 - accuracy: 0.0986\n",
      "Epoch 5/5\n",
      "1875/1875 [==============================] - 5s 2ms/step - loss: 3.7673 - accuracy: 0.0986\n",
      "313/313 - 0s - loss: 3.7565 - accuracy: 0.0958 - 441ms/epoch - 1ms/step\n",
      " contruction du modèle cross_entropy_loss avec l'optimiseur Adadelta\n",
      "Epoch 1/5\n",
      "1875/1875 [==============================] - 5s 2ms/step - loss: 3.4009 - accuracy: 0.7990\n",
      "Epoch 2/5\n",
      "1875/1875 [==============================] - 5s 2ms/step - loss: 0.8127 - accuracy: 0.9054\n",
      "Epoch 3/5\n",
      "1875/1875 [==============================] - 5s 2ms/step - loss: 0.5018 - accuracy: 0.9288\n",
      "Epoch 4/5\n",
      "1875/1875 [==============================] - 5s 2ms/step - loss: 0.3523 - accuracy: 0.9425\n",
      "Epoch 5/5\n",
      "1875/1875 [==============================] - 5s 2ms/step - loss: 0.2646 - accuracy: 0.9531\n",
      "313/313 - 0s - loss: 0.4725 - accuracy: 0.9348 - 445ms/epoch - 1ms/step\n",
      " contruction du modèle MSE_loss avec l'optimiseur Adadelta\n",
      "Epoch 1/5\n",
      "1875/1875 [==============================] - 5s 2ms/step - loss: 2.5708 - accuracy: 0.0770\n",
      "Epoch 2/5\n",
      "1875/1875 [==============================] - 5s 2ms/step - loss: 2.5682 - accuracy: 0.1081\n",
      "Epoch 3/5\n",
      "1875/1875 [==============================] - 5s 2ms/step - loss: 2.5636 - accuracy: 0.1021\n",
      "Epoch 4/5\n",
      "1875/1875 [==============================] - 5s 2ms/step - loss: 2.5414 - accuracy: 0.1031\n",
      "Epoch 5/5\n",
      "1875/1875 [==============================] - 5s 2ms/step - loss: 2.4686 - accuracy: 0.0999\n",
      "313/313 - 0s - loss: 2.4562 - accuracy: 0.1084 - 446ms/epoch - 1ms/step\n",
      " contruction du modèle LogCosh avec l'optimiseur Adadelta\n",
      "Epoch 1/5\n",
      "1875/1875 [==============================] - 5s 3ms/step - loss: 3.7670 - accuracy: 0.0749\n",
      "Epoch 2/5\n",
      "1875/1875 [==============================] - 5s 3ms/step - loss: 3.7670 - accuracy: 0.0817\n",
      "Epoch 3/5\n",
      "1875/1875 [==============================] - 5s 3ms/step - loss: 3.7670 - accuracy: 0.0998\n",
      "Epoch 4/5\n",
      "1875/1875 [==============================] - 5s 3ms/step - loss: 3.7669 - accuracy: 0.0884\n",
      "Epoch 5/5\n",
      "1875/1875 [==============================] - 5s 3ms/step - loss: 3.7670 - accuracy: 0.0932\n",
      "313/313 - 0s - loss: 3.7563 - accuracy: 0.0753 - 462ms/epoch - 1ms/step\n",
      " contruction du modèle cross_entropy_loss avec l'optimiseur Adagrad\n",
      "Epoch 1/5\n",
      "1875/1875 [==============================] - 5s 2ms/step - loss: 24.0573 - accuracy: 0.5655\n",
      "Epoch 2/5\n",
      "1875/1875 [==============================] - 4s 2ms/step - loss: 0.6803 - accuracy: 0.7931\n",
      "Epoch 3/5\n",
      "1875/1875 [==============================] - 4s 2ms/step - loss: 0.5530 - accuracy: 0.8339\n",
      "Epoch 4/5\n",
      "1875/1875 [==============================] - 4s 2ms/step - loss: 0.4898 - accuracy: 0.8556\n",
      "Epoch 5/5\n",
      "1875/1875 [==============================] - 4s 2ms/step - loss: 0.4526 - accuracy: 0.8657\n",
      "313/313 - 0s - loss: 0.4439 - accuracy: 0.8686 - 446ms/epoch - 1ms/step\n",
      " contruction du modèle MSE_loss avec l'optimiseur Adagrad\n",
      "Epoch 1/5\n",
      "1875/1875 [==============================] - 5s 2ms/step - loss: 2.5742 - accuracy: 0.0974\n",
      "Epoch 2/5\n",
      "1875/1875 [==============================] - 4s 2ms/step - loss: 2.5742 - accuracy: 0.0975\n",
      "Epoch 3/5\n",
      "1875/1875 [==============================] - 4s 2ms/step - loss: 2.5742 - accuracy: 0.0975\n",
      "Epoch 4/5\n",
      "1875/1875 [==============================] - 4s 2ms/step - loss: 2.5742 - accuracy: 0.0975\n",
      "Epoch 5/5\n",
      "1875/1875 [==============================] - 5s 3ms/step - loss: 2.5742 - accuracy: 0.0975\n",
      "313/313 - 1s - loss: 2.5670 - accuracy: 0.0974 - 527ms/epoch - 2ms/step\n",
      " contruction du modèle LogCosh avec l'optimiseur Adagrad\n",
      "Epoch 1/5\n",
      "1875/1875 [==============================] - 5s 2ms/step - loss: 3.7673 - accuracy: 0.1715\n",
      "Epoch 2/5\n",
      "1875/1875 [==============================] - 4s 2ms/step - loss: 3.7673 - accuracy: 0.1233\n",
      "Epoch 3/5\n",
      "1875/1875 [==============================] - 4s 2ms/step - loss: 3.7673 - accuracy: 0.0991\n",
      "Epoch 4/5\n",
      "1875/1875 [==============================] - 4s 2ms/step - loss: 3.7674 - accuracy: 0.0991\n",
      "Epoch 5/5\n",
      "1875/1875 [==============================] - 4s 2ms/step - loss: 3.7673 - accuracy: 0.0991\n",
      "313/313 - 0s - loss: 3.7565 - accuracy: 0.1009 - 439ms/epoch - 1ms/step\n",
      " contruction du modèle cross_entropy_loss avec l'optimiseur Adamax\n",
      "Epoch 1/5\n",
      "1875/1875 [==============================] - 5s 2ms/step - loss: 21.6060 - accuracy: 0.1763\n",
      "Epoch 2/5\n",
      "1875/1875 [==============================] - 5s 2ms/step - loss: 1.8554 - accuracy: 0.2514\n",
      "Epoch 3/5\n",
      "1875/1875 [==============================] - 5s 3ms/step - loss: 1.7511 - accuracy: 0.2836\n",
      "Epoch 4/5\n",
      "1875/1875 [==============================] - 5s 3ms/step - loss: 1.7100 - accuracy: 0.2890\n",
      "Epoch 5/5\n",
      "1875/1875 [==============================] - 5s 2ms/step - loss: 1.7288 - accuracy: 0.2914\n",
      "313/313 - 0s - loss: 1.7730 - accuracy: 0.2931 - 444ms/epoch - 1ms/step\n",
      " contruction du modèle MSE_loss avec l'optimiseur Adamax\n",
      "Epoch 1/5\n",
      "1875/1875 [==============================] - 5s 3ms/step - loss: 2.5742 - accuracy: 0.1044\n",
      "Epoch 2/5\n",
      "1875/1875 [==============================] - 5s 3ms/step - loss: 2.5742 - accuracy: 0.1044\n",
      "Epoch 3/5\n",
      "1875/1875 [==============================] - 5s 3ms/step - loss: 2.5742 - accuracy: 0.1044\n",
      "Epoch 4/5\n",
      "1875/1875 [==============================] - 5s 3ms/step - loss: 2.5742 - accuracy: 0.1044\n",
      "Epoch 5/5\n",
      "1875/1875 [==============================] - 5s 2ms/step - loss: 2.5742 - accuracy: 0.1044\n",
      "313/313 - 0s - loss: 2.5670 - accuracy: 0.1028 - 445ms/epoch - 1ms/step\n",
      " contruction du modèle LogCosh avec l'optimiseur Adamax\n",
      "Epoch 1/5\n",
      "1875/1875 [==============================] - 5s 2ms/step - loss: 3.7673 - accuracy: 0.0975\n",
      "Epoch 2/5\n",
      "1875/1875 [==============================] - 4s 2ms/step - loss: 3.7673 - accuracy: 0.0975\n",
      "Epoch 3/5\n",
      "1875/1875 [==============================] - 5s 2ms/step - loss: 3.7673 - accuracy: 0.0975\n",
      "Epoch 4/5\n",
      "1875/1875 [==============================] - 5s 2ms/step - loss: 3.7673 - accuracy: 0.0975\n",
      "Epoch 5/5\n",
      "1875/1875 [==============================] - 5s 2ms/step - loss: 3.7673 - accuracy: 0.0975\n",
      "313/313 - 0s - loss: 3.7565 - accuracy: 0.0974 - 435ms/epoch - 1ms/step\n",
      " contruction du modèle cross_entropy_loss avec l'optimiseur Nadam\n",
      "Epoch 1/5\n",
      "1875/1875 [==============================] - 7s 4ms/step - loss: 53.7485 - accuracy: 0.1094\n",
      "Epoch 2/5\n",
      "1875/1875 [==============================] - 7s 4ms/step - loss: 2.3511 - accuracy: 0.1033\n",
      "Epoch 3/5\n",
      "1875/1875 [==============================] - 7s 4ms/step - loss: 2.3118 - accuracy: 0.1024\n",
      "Epoch 4/5\n",
      "1875/1875 [==============================] - 7s 4ms/step - loss: 2.3112 - accuracy: 0.1052\n",
      "Epoch 5/5\n",
      "1875/1875 [==============================] - 7s 4ms/step - loss: 2.3123 - accuracy: 0.1035\n",
      "313/313 - 0s - loss: 2.3407 - accuracy: 0.1135 - 451ms/epoch - 1ms/step\n",
      " contruction du modèle MSE_loss avec l'optimiseur Nadam\n",
      "Epoch 1/5\n",
      "1875/1875 [==============================] - 7s 4ms/step - loss: 2.5742 - accuracy: 0.1045\n",
      "Epoch 2/5\n",
      "1875/1875 [==============================] - 7s 4ms/step - loss: 2.5742 - accuracy: 0.1044\n",
      "Epoch 3/5\n",
      "1875/1875 [==============================] - 7s 4ms/step - loss: 2.5742 - accuracy: 0.1044\n",
      "Epoch 4/5\n",
      "1875/1875 [==============================] - 7s 4ms/step - loss: 2.5742 - accuracy: 0.1044\n",
      "Epoch 5/5\n",
      "1875/1875 [==============================] - 7s 4ms/step - loss: 2.5742 - accuracy: 0.1044\n",
      "313/313 - 0s - loss: 2.5670 - accuracy: 0.1028 - 443ms/epoch - 1ms/step\n",
      " contruction du modèle LogCosh avec l'optimiseur Nadam\n",
      "Epoch 1/5\n",
      "1875/1875 [==============================] - 8s 4ms/step - loss: 3.7673 - accuracy: 0.0904\n",
      "Epoch 2/5\n",
      "1875/1875 [==============================] - 7s 4ms/step - loss: 3.7673 - accuracy: 0.0904\n",
      "Epoch 3/5\n",
      "1875/1875 [==============================] - 7s 4ms/step - loss: 3.7674 - accuracy: 0.0904\n",
      "Epoch 4/5\n",
      "1875/1875 [==============================] - 7s 4ms/step - loss: 3.7674 - accuracy: 0.0904\n",
      "Epoch 5/5\n",
      "1875/1875 [==============================] - 7s 4ms/step - loss: 3.7673 - accuracy: 0.0904\n",
      "313/313 - 1s - loss: 3.7565 - accuracy: 0.0892 - 627ms/epoch - 2ms/step\n",
      " contruction du modèle cross_entropy_loss avec l'optimiseur Ftrl\n",
      "Epoch 1/5\n",
      "1875/1875 [==============================] - 6s 3ms/step - loss: 38.4004 - accuracy: 0.1117\n",
      "Epoch 2/5\n",
      "1875/1875 [==============================] - 5s 3ms/step - loss: 2.2321 - accuracy: 0.1519\n",
      "Epoch 3/5\n",
      "1875/1875 [==============================] - 5s 3ms/step - loss: 1.7329 - accuracy: 0.3162\n",
      "Epoch 4/5\n",
      "1875/1875 [==============================] - 5s 3ms/step - loss: 1.3252 - accuracy: 0.4557\n",
      "Epoch 5/5\n",
      "1875/1875 [==============================] - 5s 3ms/step - loss: 1.1879 - accuracy: 0.5135\n",
      "313/313 - 0s - loss: 1.0168 - accuracy: 0.5967 - 464ms/epoch - 1ms/step\n",
      " contruction du modèle MSE_loss avec l'optimiseur Ftrl\n",
      "Epoch 1/5\n",
      "1875/1875 [==============================] - 6s 3ms/step - loss: 2.4574 - accuracy: 0.0926\n",
      "Epoch 2/5\n",
      "1875/1875 [==============================] - 5s 3ms/step - loss: 2.4573 - accuracy: 0.0846\n",
      "Epoch 3/5\n",
      "1875/1875 [==============================] - 5s 3ms/step - loss: 2.4573 - accuracy: 0.0849\n",
      "Epoch 4/5\n",
      "1875/1875 [==============================] - 5s 3ms/step - loss: 2.4573 - accuracy: 0.0845\n",
      "Epoch 5/5\n",
      "1875/1875 [==============================] - 5s 3ms/step - loss: 2.4573 - accuracy: 0.0843\n",
      "313/313 - 0s - loss: 2.4502 - accuracy: 0.0849 - 449ms/epoch - 1ms/step\n",
      " contruction du modèle LogCosh avec l'optimiseur Ftrl\n",
      "Epoch 1/5\n",
      "1875/1875 [==============================] - 5s 3ms/step - loss: 3.7593 - accuracy: 0.1123\n",
      "Epoch 2/5\n",
      "1875/1875 [==============================] - 5s 3ms/step - loss: 3.7593 - accuracy: 0.1124\n",
      "Epoch 3/5\n",
      "1875/1875 [==============================] - 6s 3ms/step - loss: 3.7593 - accuracy: 0.1124\n",
      "Epoch 4/5\n",
      "1875/1875 [==============================] - 5s 3ms/step - loss: 3.7593 - accuracy: 0.1124\n",
      "Epoch 5/5\n",
      "1875/1875 [==============================] - 5s 3ms/step - loss: 3.7593 - accuracy: 0.1124\n",
      "313/313 - 0s - loss: 3.7485 - accuracy: 0.1135 - 448ms/epoch - 1ms/step\n"
     ]
    }
   ],
   "source": [
    "errors_acc = []\n",
    "errors_loss = []\n",
    "list_time = []\n",
    "for key , opt in list_optimisation.items():\n",
    "    for key1, loss in list_loss.items():\n",
    "        model_temp = clone_model(model)\n",
    "        print(f\" contruction du modèle {key1} avec l'optimiseur {key}\")\n",
    "        d1 = datetime.datetime.now()\n",
    "        model_temp.compile(optimizer=opt,\n",
    "                      loss=loss,\n",
    "                      metrics=['accuracy'])\n",
    "        model_temp.fit(train_images, train_labels, epochs=5)\n",
    "        d2= datetime.datetime.now()\n",
    "        list_time.append((d2-d1).seconds)\n",
    "        test_loss, test_acc = model_temp.evaluate(test_images,  test_labels, verbose=2)\n",
    "        errors_acc.append(test_acc*100.0)\n",
    "        errors_loss.append(test_loss*100.0)"
   ]
  },
  {
   "cell_type": "markdown",
   "id": "6523c194-ffa4-4329-aa41-b1e3d2ee44d5",
   "metadata": {},
   "source": [
    "### Representation graphique des Resultats pour l'experience 1 "
   ]
  },
  {
   "cell_type": "code",
   "execution_count": 22,
   "id": "f0506b3f-f3de-439e-9829-d5bc6ff58c7a",
   "metadata": {},
   "outputs": [],
   "source": [
    "import matplotlib.pyplot as plt"
   ]
  },
  {
   "cell_type": "code",
   "execution_count": 57,
   "id": "4b2662b5-5e28-44f2-b493-9641c8d77f4c",
   "metadata": {
    "tags": []
   },
   "outputs": [
    {
     "data": {
      "image/png": "[encoded data removed]",
      "text/plain": [
       "<Figure size 1080x864 with 2 Axes>"
      ]
     },
     "metadata": {
      "needs_background": "light"
     },
     "output_type": "display_data"
    }
   ],
   "source": [
    "i=0\n",
    "j=3\n",
    "k=1\n",
    "plt.figure(figsize=(15,12))\n",
    "plt.subplot(1,2,1)\n",
    "for key , opt in list_optimisation.items():\n",
    "    plt.plot(list_loss.keys(),errors_acc[i:j],label=key,lw=5)\n",
    "   \n",
    "    # print(list_loss.keys())\n",
    "    # print(f\"les valeurs pour accurency de {key} est {errors_acc[i:j]} \")\n",
    "    i=j\n",
    "    j +=3\n",
    "    k +=1\n",
    "plt.xlabel('Les differentes fonctions de perte utiliser')\n",
    "plt.ylim(1,95)\n",
    "plt.ylabel('Accurency apres pour 5 epoque')\n",
    "plt.title(\"les valeurs pour accurency en fonction de la loss\")\n",
    "plt.legend()\n",
    "#plt.show()\n",
    "i=0\n",
    "j=3\n",
    "k=1\n",
    "plt.subplot(1,2,2)\n",
    "for key , opt in list_optimisation.items():\n",
    "    plt.plot(list_loss.keys(),list_time[i:j],label=key,lw=4)\n",
    "    i=j\n",
    "    j +=3\n",
    "    k +=1\n",
    "plt.xlabel('Les differentes fonctions de perte utiliser')\n",
    "plt.ylim(1,50)\n",
    "plt.ylabel('le temps en seconde pour 5 epoque')\n",
    "plt.title(\"Le temps de contruction du modele sur 5 epoque en fonction des fonctions de perte\")\n",
    "plt.legend()\n",
    "plt.show()"
   ]
  },
  {
   "cell_type": "markdown",
   "id": "708e6d56-0143-42da-97a1-6bea7b3fdf9c",
   "metadata": {},
   "source": [
    "## Analyser\n",
    "### Analyser graphe 1 Accurency = f(loss)\n",
    "1- peu importe optimiseur choisie la fonction de perte MSE concerves les valeurs de son accurency 10-13 . Et les valeurs sont faible\n",
    "2- la fonction de perte LogCosh(logarithme hyperbolique cosinu) se comporte comme MSE mais avec des valeurs de l'accurency un peu plus grande mais toujour faible pour une valeur de l'accurency\n",
    "3- avec la fonction de perte SparseCategoricalCrossentropy les comportements vis à vis des optimiseurs sont differents\n",
    "    a- pour Nadam,Adam,SGD la valur de l'accurency ossile entre 15-12 ceux qui est faible pour l'accurency\n",
    "    b- Pour Adamx son valeur est a 30% bien eloigne mais toujours faible pour juge le modèle\n",
    "    c- avec Ftrl optimiseur nous avons une valeur plutot acceptable \n",
    "    d- Nous avons des valeur très éleve pour les optimiseurs Adadelta et Adagrad\n",
    "### Analyser graphe 2 temps contruction = f(loss)\n",
    "1- En utilisant l'optimiseur SGD,RmsPRop,Adam,Fltr le temps de contruction est lineaire pour toutes fonctions de pertes\n",
    "2- la contruction pour Adadelta les faible pour SparseCategoricalCrossentropy et LogCosh et eleve pour Très éleve MSE_log\n",
    "3- pour Adagrad et Nadam la phase d'entrainement est pratiquement 1 minute avec la loss du SparseCategoricalCrossentropy\n",
    "4- Adamax et LogCos on des valeurs éléve pour l'entrainement du modèle"
   ]
  },
  {
   "cell_type": "markdown",
   "id": "410b0e94-b534-402a-bddd-fa47750d011c",
   "metadata": {},
   "source": [
    "## Discussion\n",
    "Pour cette experimentation Nous avons traivaller avec les valeurs par defauts pour les optimiseurs et les fonction de pertes\n",
    "Nous avons obetnu de très bon resultat avec les combinaison :\n",
    "\n",
    "    Adadelta --- SparseCategoricalCrossentropy \n",
    "    Adagrad ---- SparseCategoricalCrossentropy\n",
    "avec un temps d'entrainement de 23 seconde\n",
    "ce qui fait Adadelta et SparseCategoricalCrossentropy des choix et en terme d'optimiseur et de fonction de perte ideale pour notre jeux de données.\n",
    "le MSE et LogCos ne permet pas de donner de bon resultat et pour certain optimiseur le temps d'excecution est relativement grande ceux qui laisse à croire que dans la recherche de l'optimun ils ont:\n",
    "- soit perdu dans le piége de l'optimun local\n",
    "- ou ils ont diverge et ossille proche de l'optimun sans l'attiendre\n",
    "une hypothese serait que leurs propriete mathematique cette avec celle de l'optimiseur ne garanti pas une convergence sans ajustement des hyperparamètre de l'optimiseur comme Adam.\n"
   ]
  },
  {
   "cell_type": "markdown",
   "id": "53d073b5-7f43-4de2-b73c-46fc9b09af7e",
   "metadata": {},
   "source": [
    "## Conclusion\n",
    "Arrive a ce stade de l'experimentation nous ne pouvons pas donner les raisons de l'echec des autres optimiseurs. Nous pouvons simplement formulé des hypothèse qui peuvent être valider avec des preuves mathematiques ou d'autres experimentations"
   ]
  },
  {
   "cell_type": "code",
   "execution_count": null,
   "id": "0b274233-e203-47a2-98b3-478757721837",
   "metadata": {},
   "outputs": [],
   "source": []
  },
  {
   "cell_type": "code",
   "execution_count": null,
   "id": "42f19733-35f5-4fae-9c23-03dbf74e2967",
   "metadata": {},
   "outputs": [],
   "source": []
  }
 ],
 "metadata": {
  "kernelspec": {
   "display_name": "Python 3 (ipykernel)",
   "language": "python",
   "name": "python3"
  },
  "language_info": {
   "codemirror_mode": {
    "name": "ipython",
    "version": 3
   },
   "file_extension": ".py",
   "mimetype": "text/x-python",
   "name": "python",
   "nbconvert_exporter": "python",
   "pygments_lexer": "ipython3",
   "version": "3.9.7"
  }
 },
 "nbformat": 4,
 "nbformat_minor": 5
}
