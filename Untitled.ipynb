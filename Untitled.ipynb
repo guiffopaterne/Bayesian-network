{
 "cells": [
  {
   "cell_type": "markdown",
   "id": "4b5cfeff-908e-4dbc-9bce-5ec79c255990",
   "metadata": {},
   "source": [
    "**TPINFO 4248**\n",
    "objet TP_INFO4248\n",
    "\n",
    "\n",
    "---\n",
    "\n",
    "## Controle continu pratique\n",
    "\n",
    "- GUIFFO WAFFO PATERNE 20V2904"
   ]
  },
  {
   "cell_type": "markdown",
   "id": "d2c6dd09-bfc0-4fa7-afbd-a7e69a0a5661",
   "metadata": {},
   "source": [
    "Nous allons essayer de predict le status de l'appel en fonction du temps, la PDD"
   ]
  },
  {
   "cell_type": "code",
   "execution_count": 53,
   "id": "d8a38554-fcf6-47db-9320-796b810e40f9",
   "metadata": {},
   "outputs": [],
   "source": [
    "from sklearn import preprocessing "
   ]
  },
  {
   "cell_type": "code",
   "execution_count": 1,
   "id": "5a85133c-e4c0-487c-b119-f809e778e135",
   "metadata": {},
   "outputs": [],
   "source": [
    "import pandas as pd"
   ]
  },
  {
   "cell_type": "code",
   "execution_count": 11,
   "id": "253c7633-5fee-4ee5-bfbb-ea4e59325901",
   "metadata": {},
   "outputs": [],
   "source": [
    "import datetime\n",
    "import matplotlib.pyplot as plt"
   ]
  },
  {
   "cell_type": "code",
   "execution_count": 68,
   "id": "5a10f2c2-c647-4e30-8908-726f555f3d89",
   "metadata": {},
   "outputs": [],
   "source": [
    "from sklearn.metrics import accuracy_score,recall_score,f1_score,confusion_matrix"
   ]
  },
  {
   "cell_type": "code",
   "execution_count": 45,
   "id": "77287832-7e8c-4b7c-881c-c9b56665d627",
   "metadata": {},
   "outputs": [],
   "source": [
    "from sklearn.model_selection import train_test_split"
   ]
  },
  {
   "cell_type": "code",
   "execution_count": 22,
   "id": "fbb4fbf0-9b3b-4482-a7da-c4ba0d78b1b7",
   "metadata": {},
   "outputs": [],
   "source": [
    "from sklearn.preprocessing import OneHotEncoder"
   ]
  },
  {
   "cell_type": "code",
   "execution_count": 58,
   "id": "be654777-2c41-46c6-b4c0-52f3a4b87e6d",
   "metadata": {},
   "outputs": [],
   "source": [
    "from sklearn.svm import SVC\n",
    "from sklearn.preprocessing import StandardScaler\n",
    "from sklearn.pipeline import make_pipeline"
   ]
  },
  {
   "cell_type": "code",
   "execution_count": 2,
   "id": "75b547de-4bba-4f90-a8db-a8d1525cb81a",
   "metadata": {},
   "outputs": [],
   "source": [
    "data = pd.read_excel('./CDR_For_Analysis.xlsx')"
   ]
  },
  {
   "cell_type": "code",
   "execution_count": 3,
   "id": "b9ffca77-a788-4aee-b75c-5cd14c995864",
   "metadata": {},
   "outputs": [
    {
     "data": {
      "text/html": [
       "<div>\n",
       "<style scoped>\n",
       "    .dataframe tbody tr th:only-of-type {\n",
       "        vertical-align: middle;\n",
       "    }\n",
       "\n",
       "    .dataframe tbody tr th {\n",
       "        vertical-align: top;\n",
       "    }\n",
       "\n",
       "    .dataframe thead th {\n",
       "        text-align: right;\n",
       "    }\n",
       "</style>\n",
       "<table border=\"1\" class=\"dataframe\">\n",
       "  <thead>\n",
       "    <tr style=\"text-align: right;\">\n",
       "      <th></th>\n",
       "      <th>TIMESTAMP</th>\n",
       "      <th>TO</th>\n",
       "      <th>FROM</th>\n",
       "      <th>DURATION</th>\n",
       "      <th>TEARDOWN</th>\n",
       "      <th>PDD</th>\n",
       "    </tr>\n",
       "  </thead>\n",
       "  <tbody>\n",
       "    <tr>\n",
       "      <th>0</th>\n",
       "      <td>2016-02-24 00:01:31</td>\n",
       "      <td>1.123770e+13</td>\n",
       "      <td>33681758465</td>\n",
       "      <td>0</td>\n",
       "      <td>403</td>\n",
       "      <td>0</td>\n",
       "    </tr>\n",
       "    <tr>\n",
       "      <th>1</th>\n",
       "      <td>2016-02-24 00:01:37</td>\n",
       "      <td>1.123770e+13</td>\n",
       "      <td>3022353644</td>\n",
       "      <td>0</td>\n",
       "      <td>403</td>\n",
       "      <td>0</td>\n",
       "    </tr>\n",
       "    <tr>\n",
       "      <th>2</th>\n",
       "      <td>2016-02-24 00:01:38</td>\n",
       "      <td>1.123766e+13</td>\n",
       "      <td>33681757625</td>\n",
       "      <td>0</td>\n",
       "      <td>403</td>\n",
       "      <td>0</td>\n",
       "    </tr>\n",
       "    <tr>\n",
       "      <th>3</th>\n",
       "      <td>2016-02-24 00:01:36</td>\n",
       "      <td>1.123770e+13</td>\n",
       "      <td>32465977443</td>\n",
       "      <td>0</td>\n",
       "      <td>503</td>\n",
       "      <td>2000</td>\n",
       "    </tr>\n",
       "    <tr>\n",
       "      <th>4</th>\n",
       "      <td>2016-02-24 00:01:39</td>\n",
       "      <td>1.123770e+13</td>\n",
       "      <td>32465977443</td>\n",
       "      <td>0</td>\n",
       "      <td>503</td>\n",
       "      <td>1000</td>\n",
       "    </tr>\n",
       "  </tbody>\n",
       "</table>\n",
       "</div>"
      ],
      "text/plain": [
       "            TIMESTAMP            TO         FROM  DURATION  TEARDOWN   PDD\n",
       "0 2016-02-24 00:01:31  1.123770e+13  33681758465         0       403     0\n",
       "1 2016-02-24 00:01:37  1.123770e+13   3022353644         0       403     0\n",
       "2 2016-02-24 00:01:38  1.123766e+13  33681757625         0       403     0\n",
       "3 2016-02-24 00:01:36  1.123770e+13  32465977443         0       503  2000\n",
       "4 2016-02-24 00:01:39  1.123770e+13  32465977443         0       503  1000"
      ]
     },
     "execution_count": 3,
     "metadata": {},
     "output_type": "execute_result"
    }
   ],
   "source": [
    "data.head()"
   ]
  },
  {
   "cell_type": "code",
   "execution_count": 4,
   "id": "c99a3af5-5b5e-4d13-abed-15614e40d0b8",
   "metadata": {
    "tags": []
   },
   "outputs": [
    {
     "data": {
      "text/html": [
       "<div>\n",
       "<style scoped>\n",
       "    .dataframe tbody tr th:only-of-type {\n",
       "        vertical-align: middle;\n",
       "    }\n",
       "\n",
       "    .dataframe tbody tr th {\n",
       "        vertical-align: top;\n",
       "    }\n",
       "\n",
       "    .dataframe thead th {\n",
       "        text-align: right;\n",
       "    }\n",
       "</style>\n",
       "<table border=\"1\" class=\"dataframe\">\n",
       "  <thead>\n",
       "    <tr style=\"text-align: right;\">\n",
       "      <th></th>\n",
       "      <th>TO</th>\n",
       "      <th>DURATION</th>\n",
       "      <th>TEARDOWN</th>\n",
       "      <th>PDD</th>\n",
       "    </tr>\n",
       "  </thead>\n",
       "  <tbody>\n",
       "    <tr>\n",
       "      <th>count</th>\n",
       "      <td>2.795600e+04</td>\n",
       "      <td>27956.000000</td>\n",
       "      <td>27956.000000</td>\n",
       "      <td>27956.000000</td>\n",
       "    </tr>\n",
       "    <tr>\n",
       "      <th>mean</th>\n",
       "      <td>2.054619e+17</td>\n",
       "      <td>11.304121</td>\n",
       "      <td>452.548254</td>\n",
       "      <td>1605.588460</td>\n",
       "    </tr>\n",
       "    <tr>\n",
       "      <th>std</th>\n",
       "      <td>1.502933e+19</td>\n",
       "      <td>76.353575</td>\n",
       "      <td>117.583734</td>\n",
       "      <td>1509.159994</td>\n",
       "    </tr>\n",
       "    <tr>\n",
       "      <th>min</th>\n",
       "      <td>1.123769e+06</td>\n",
       "      <td>0.000000</td>\n",
       "      <td>0.000000</td>\n",
       "      <td>0.000000</td>\n",
       "    </tr>\n",
       "    <tr>\n",
       "      <th>25%</th>\n",
       "      <td>1.123766e+13</td>\n",
       "      <td>0.000000</td>\n",
       "      <td>403.000000</td>\n",
       "      <td>1000.000000</td>\n",
       "    </tr>\n",
       "    <tr>\n",
       "      <th>50%</th>\n",
       "      <td>1.123770e+13</td>\n",
       "      <td>0.000000</td>\n",
       "      <td>503.000000</td>\n",
       "      <td>1000.000000</td>\n",
       "    </tr>\n",
       "    <tr>\n",
       "      <th>75%</th>\n",
       "      <td>1.123770e+13</td>\n",
       "      <td>0.000000</td>\n",
       "      <td>503.000000</td>\n",
       "      <td>2000.000000</td>\n",
       "    </tr>\n",
       "    <tr>\n",
       "      <th>max</th>\n",
       "      <td>1.123770e+21</td>\n",
       "      <td>2001.000000</td>\n",
       "      <td>503.000000</td>\n",
       "      <td>26000.000000</td>\n",
       "    </tr>\n",
       "  </tbody>\n",
       "</table>\n",
       "</div>"
      ],
      "text/plain": [
       "                 TO      DURATION      TEARDOWN           PDD\n",
       "count  2.795600e+04  27956.000000  27956.000000  27956.000000\n",
       "mean   2.054619e+17     11.304121    452.548254   1605.588460\n",
       "std    1.502933e+19     76.353575    117.583734   1509.159994\n",
       "min    1.123769e+06      0.000000      0.000000      0.000000\n",
       "25%    1.123766e+13      0.000000    403.000000   1000.000000\n",
       "50%    1.123770e+13      0.000000    503.000000   1000.000000\n",
       "75%    1.123770e+13      0.000000    503.000000   2000.000000\n",
       "max    1.123770e+21   2001.000000    503.000000  26000.000000"
      ]
     },
     "execution_count": 4,
     "metadata": {},
     "output_type": "execute_result"
    }
   ],
   "source": [
    "data.describe()\n",
    "# format d'heure yyyy-MM-dd HH:mm:ss"
   ]
  },
  {
   "cell_type": "code",
   "execution_count": null,
   "id": "acf14b41-2f50-4725-8765-e0c501d262cc",
   "metadata": {},
   "outputs": [],
   "source": []
  },
  {
   "cell_type": "code",
   "execution_count": 5,
   "id": "865d8b39-29a8-49d7-b2b4-d371a60f76cf",
   "metadata": {},
   "outputs": [
    {
     "data": {
      "text/plain": [
       "0       26368\n",
       "1          27\n",
       "25         20\n",
       "10         20\n",
       "15         19\n",
       "        ...  \n",
       "465         1\n",
       "480         1\n",
       "372         1\n",
       "970         1\n",
       "1280        1\n",
       "Name: DURATION, Length: 535, dtype: int64"
      ]
     },
     "execution_count": 5,
     "metadata": {},
     "output_type": "execute_result"
    }
   ],
   "source": [
    "data['DURATION'].value_counts()"
   ]
  },
  {
   "cell_type": "code",
   "execution_count": 6,
   "id": "6a1217af-8109-45f8-8017-9d250fee5d7f",
   "metadata": {},
   "outputs": [
    {
     "data": {
      "text/plain": [
       "(27956, 6)"
      ]
     },
     "execution_count": 6,
     "metadata": {},
     "output_type": "execute_result"
    }
   ],
   "source": [
    "data.shape"
   ]
  },
  {
   "cell_type": "code",
   "execution_count": 8,
   "id": "1ae5a9f8-d872-496e-bf2c-c1262c03554c",
   "metadata": {},
   "outputs": [
    {
     "data": {
      "text/plain": [
       "503    17072\n",
       "403     5517\n",
       "487     3771\n",
       "0       1587\n",
       "488        8\n",
       "491        1\n",
       "Name: TEARDOWN, dtype: int64"
      ]
     },
     "execution_count": 8,
     "metadata": {},
     "output_type": "execute_result"
    }
   ],
   "source": [
    "data['TEARDOWN'].value_counts()"
   ]
  },
  {
   "cell_type": "code",
   "execution_count": 10,
   "id": "b06ce599-c6d8-49a7-ba02-e318eb34250b",
   "metadata": {},
   "outputs": [
    {
     "data": {
      "text/plain": [
       "TIMESTAMP    datetime64[ns]\n",
       "TO                  float64\n",
       "FROM                 object\n",
       "DURATION              int64\n",
       "TEARDOWN              int64\n",
       "PDD                   int64\n",
       "dtype: object"
      ]
     },
     "execution_count": 10,
     "metadata": {},
     "output_type": "execute_result"
    }
   ],
   "source": [
    "data.dtypes"
   ]
  },
  {
   "cell_type": "code",
   "execution_count": 14,
   "id": "c1e0df43-5010-440f-8a08-3ea26536a86d",
   "metadata": {},
   "outputs": [
    {
     "data": {
      "text/plain": [
       "[<matplotlib.lines.Line2D at 0x7fcf2d1d7100>]"
      ]
     },
     "execution_count": 14,
     "metadata": {},
     "output_type": "execute_result"
    },
    {
     "data": {
      "image/png": "[encoded data removed]",
      "text/plain": [
       "<Figure size 1080x1080 with 1 Axes>"
      ]
     },
     "metadata": {
      "needs_background": "light"
     },
     "output_type": "display_data"
    }
   ],
   "source": [
    "plt.figure(figsize=(15,15))\n",
    "plt.plot_date(data['TIMESTAMP'], data['DURATION'])"
   ]
  },
  {
   "cell_type": "code",
   "execution_count": 16,
   "id": "896e61b3-3da8-4ef5-8808-f66f6e9b6fa7",
   "metadata": {},
   "outputs": [],
   "source": [
    "bins = [0, 5, 13, 17, 25]\n",
    "labels = ['Morning','Afternoon','Evening','Night']\n",
    "hours = data['TIMESTAMP'].dt.hour\n",
    "data['bin'] = pd.cut(hours-5+24 *(hours<5),bins=bins,labels=labels,right=False)"
   ]
  },
  {
   "cell_type": "code",
   "execution_count": 18,
   "id": "24c283c1-aa5c-4a1b-8e14-2ed579d5f020",
   "metadata": {
    "tags": []
   },
   "outputs": [
    {
     "data": {
      "text/html": [
       "<div>\n",
       "<style scoped>\n",
       "    .dataframe tbody tr th:only-of-type {\n",
       "        vertical-align: middle;\n",
       "    }\n",
       "\n",
       "    .dataframe tbody tr th {\n",
       "        vertical-align: top;\n",
       "    }\n",
       "\n",
       "    .dataframe thead th {\n",
       "        text-align: right;\n",
       "    }\n",
       "</style>\n",
       "<table border=\"1\" class=\"dataframe\">\n",
       "  <thead>\n",
       "    <tr style=\"text-align: right;\">\n",
       "      <th></th>\n",
       "      <th>TIMESTAMP</th>\n",
       "      <th>TO</th>\n",
       "      <th>FROM</th>\n",
       "      <th>DURATION</th>\n",
       "      <th>TEARDOWN</th>\n",
       "      <th>PDD</th>\n",
       "      <th>bin</th>\n",
       "    </tr>\n",
       "  </thead>\n",
       "  <tbody>\n",
       "    <tr>\n",
       "      <th>0</th>\n",
       "      <td>2016-02-24 00:01:31</td>\n",
       "      <td>1.123770e+13</td>\n",
       "      <td>33681758465</td>\n",
       "      <td>0</td>\n",
       "      <td>403</td>\n",
       "      <td>0</td>\n",
       "      <td>Night</td>\n",
       "    </tr>\n",
       "    <tr>\n",
       "      <th>1</th>\n",
       "      <td>2016-02-24 00:01:37</td>\n",
       "      <td>1.123770e+13</td>\n",
       "      <td>3022353644</td>\n",
       "      <td>0</td>\n",
       "      <td>403</td>\n",
       "      <td>0</td>\n",
       "      <td>Night</td>\n",
       "    </tr>\n",
       "    <tr>\n",
       "      <th>2</th>\n",
       "      <td>2016-02-24 00:01:38</td>\n",
       "      <td>1.123766e+13</td>\n",
       "      <td>33681757625</td>\n",
       "      <td>0</td>\n",
       "      <td>403</td>\n",
       "      <td>0</td>\n",
       "      <td>Night</td>\n",
       "    </tr>\n",
       "    <tr>\n",
       "      <th>3</th>\n",
       "      <td>2016-02-24 00:01:36</td>\n",
       "      <td>1.123770e+13</td>\n",
       "      <td>32465977443</td>\n",
       "      <td>0</td>\n",
       "      <td>503</td>\n",
       "      <td>2000</td>\n",
       "      <td>Night</td>\n",
       "    </tr>\n",
       "    <tr>\n",
       "      <th>4</th>\n",
       "      <td>2016-02-24 00:01:39</td>\n",
       "      <td>1.123770e+13</td>\n",
       "      <td>32465977443</td>\n",
       "      <td>0</td>\n",
       "      <td>503</td>\n",
       "      <td>1000</td>\n",
       "      <td>Night</td>\n",
       "    </tr>\n",
       "  </tbody>\n",
       "</table>\n",
       "</div>"
      ],
      "text/plain": [
       "            TIMESTAMP            TO         FROM  DURATION  TEARDOWN   PDD  \\\n",
       "0 2016-02-24 00:01:31  1.123770e+13  33681758465         0       403     0   \n",
       "1 2016-02-24 00:01:37  1.123770e+13   3022353644         0       403     0   \n",
       "2 2016-02-24 00:01:38  1.123766e+13  33681757625         0       403     0   \n",
       "3 2016-02-24 00:01:36  1.123770e+13  32465977443         0       503  2000   \n",
       "4 2016-02-24 00:01:39  1.123770e+13  32465977443         0       503  1000   \n",
       "\n",
       "     bin  \n",
       "0  Night  \n",
       "1  Night  \n",
       "2  Night  \n",
       "3  Night  \n",
       "4  Night  "
      ]
     },
     "execution_count": 18,
     "metadata": {},
     "output_type": "execute_result"
    }
   ],
   "source": [
    "data.head()"
   ]
  },
  {
   "cell_type": "code",
   "execution_count": 19,
   "id": "1ddc70b3-1bd0-449f-a388-caf8862ab6f0",
   "metadata": {},
   "outputs": [],
   "source": [
    "data_final = data.drop(columns=['TIMESTAMP', 'TO','FROM'])"
   ]
  },
  {
   "cell_type": "code",
   "execution_count": 20,
   "id": "4f321a14-fd0a-452f-b3f7-5ee632030ca3",
   "metadata": {
    "tags": []
   },
   "outputs": [
    {
     "data": {
      "text/html": [
       "<div>\n",
       "<style scoped>\n",
       "    .dataframe tbody tr th:only-of-type {\n",
       "        vertical-align: middle;\n",
       "    }\n",
       "\n",
       "    .dataframe tbody tr th {\n",
       "        vertical-align: top;\n",
       "    }\n",
       "\n",
       "    .dataframe thead th {\n",
       "        text-align: right;\n",
       "    }\n",
       "</style>\n",
       "<table border=\"1\" class=\"dataframe\">\n",
       "  <thead>\n",
       "    <tr style=\"text-align: right;\">\n",
       "      <th></th>\n",
       "      <th>DURATION</th>\n",
       "      <th>TEARDOWN</th>\n",
       "      <th>PDD</th>\n",
       "      <th>bin</th>\n",
       "    </tr>\n",
       "  </thead>\n",
       "  <tbody>\n",
       "    <tr>\n",
       "      <th>0</th>\n",
       "      <td>0</td>\n",
       "      <td>403</td>\n",
       "      <td>0</td>\n",
       "      <td>Night</td>\n",
       "    </tr>\n",
       "    <tr>\n",
       "      <th>1</th>\n",
       "      <td>0</td>\n",
       "      <td>403</td>\n",
       "      <td>0</td>\n",
       "      <td>Night</td>\n",
       "    </tr>\n",
       "    <tr>\n",
       "      <th>2</th>\n",
       "      <td>0</td>\n",
       "      <td>403</td>\n",
       "      <td>0</td>\n",
       "      <td>Night</td>\n",
       "    </tr>\n",
       "    <tr>\n",
       "      <th>3</th>\n",
       "      <td>0</td>\n",
       "      <td>503</td>\n",
       "      <td>2000</td>\n",
       "      <td>Night</td>\n",
       "    </tr>\n",
       "    <tr>\n",
       "      <th>4</th>\n",
       "      <td>0</td>\n",
       "      <td>503</td>\n",
       "      <td>1000</td>\n",
       "      <td>Night</td>\n",
       "    </tr>\n",
       "  </tbody>\n",
       "</table>\n",
       "</div>"
      ],
      "text/plain": [
       "   DURATION  TEARDOWN   PDD    bin\n",
       "0         0       403     0  Night\n",
       "1         0       403     0  Night\n",
       "2         0       403     0  Night\n",
       "3         0       503  2000  Night\n",
       "4         0       503  1000  Night"
      ]
     },
     "execution_count": 20,
     "metadata": {},
     "output_type": "execute_result"
    }
   ],
   "source": [
    "data_final.head()"
   ]
  },
  {
   "cell_type": "code",
   "execution_count": 35,
   "id": "c55f0b52-9146-4667-9951-618d0cf3acca",
   "metadata": {
    "tags": []
   },
   "outputs": [],
   "source": [
    "enc = OneHotEncoder(handle_unknown='ignore',sparse=False)"
   ]
  },
  {
   "cell_type": "code",
   "execution_count": 37,
   "id": "c7a8f2ae-1dc7-4ac5-be36-c1b37d97eb9e",
   "metadata": {},
   "outputs": [],
   "source": [
    "encoder_df = pd.DataFrame(enc.fit_transform(data_final[['bin']]))"
   ]
  },
  {
   "cell_type": "code",
   "execution_count": 39,
   "id": "2962cad2-5756-4df6-be99-387f4c82cc5b",
   "metadata": {
    "tags": []
   },
   "outputs": [
    {
     "data": {
      "text/html": [
       "<div>\n",
       "<style scoped>\n",
       "    .dataframe tbody tr th:only-of-type {\n",
       "        vertical-align: middle;\n",
       "    }\n",
       "\n",
       "    .dataframe tbody tr th {\n",
       "        vertical-align: top;\n",
       "    }\n",
       "\n",
       "    .dataframe thead th {\n",
       "        text-align: right;\n",
       "    }\n",
       "</style>\n",
       "<table border=\"1\" class=\"dataframe\">\n",
       "  <thead>\n",
       "    <tr style=\"text-align: right;\">\n",
       "      <th></th>\n",
       "      <th>0</th>\n",
       "      <th>1</th>\n",
       "      <th>2</th>\n",
       "      <th>3</th>\n",
       "    </tr>\n",
       "  </thead>\n",
       "  <tbody>\n",
       "    <tr>\n",
       "      <th>0</th>\n",
       "      <td>0.0</td>\n",
       "      <td>0.0</td>\n",
       "      <td>0.0</td>\n",
       "      <td>1.0</td>\n",
       "    </tr>\n",
       "    <tr>\n",
       "      <th>1</th>\n",
       "      <td>0.0</td>\n",
       "      <td>0.0</td>\n",
       "      <td>0.0</td>\n",
       "      <td>1.0</td>\n",
       "    </tr>\n",
       "    <tr>\n",
       "      <th>2</th>\n",
       "      <td>0.0</td>\n",
       "      <td>0.0</td>\n",
       "      <td>0.0</td>\n",
       "      <td>1.0</td>\n",
       "    </tr>\n",
       "    <tr>\n",
       "      <th>3</th>\n",
       "      <td>0.0</td>\n",
       "      <td>0.0</td>\n",
       "      <td>0.0</td>\n",
       "      <td>1.0</td>\n",
       "    </tr>\n",
       "    <tr>\n",
       "      <th>4</th>\n",
       "      <td>0.0</td>\n",
       "      <td>0.0</td>\n",
       "      <td>0.0</td>\n",
       "      <td>1.0</td>\n",
       "    </tr>\n",
       "  </tbody>\n",
       "</table>\n",
       "</div>"
      ],
      "text/plain": [
       "     0    1    2    3\n",
       "0  0.0  0.0  0.0  1.0\n",
       "1  0.0  0.0  0.0  1.0\n",
       "2  0.0  0.0  0.0  1.0\n",
       "3  0.0  0.0  0.0  1.0\n",
       "4  0.0  0.0  0.0  1.0"
      ]
     },
     "execution_count": 39,
     "metadata": {},
     "output_type": "execute_result"
    }
   ],
   "source": [
    "encoder_df.head()"
   ]
  },
  {
   "cell_type": "code",
   "execution_count": 40,
   "id": "a2301d32-07ac-4cfe-9ddd-36da4bab80bf",
   "metadata": {},
   "outputs": [],
   "source": [
    "df = data_final.join(encoder_df)"
   ]
  },
  {
   "cell_type": "code",
   "execution_count": 56,
   "id": "1dd532f0-ffad-41b4-a523-501171ca5020",
   "metadata": {},
   "outputs": [],
   "source": [
    "y = le.transform(df['TEARDOWN'])"
   ]
  },
  {
   "cell_type": "code",
   "execution_count": 41,
   "id": "2503e35b-eab4-40b8-8151-fd670d681083",
   "metadata": {
    "tags": []
   },
   "outputs": [
    {
     "data": {
      "text/html": [
       "<div>\n",
       "<style scoped>\n",
       "    .dataframe tbody tr th:only-of-type {\n",
       "        vertical-align: middle;\n",
       "    }\n",
       "\n",
       "    .dataframe tbody tr th {\n",
       "        vertical-align: top;\n",
       "    }\n",
       "\n",
       "    .dataframe thead th {\n",
       "        text-align: right;\n",
       "    }\n",
       "</style>\n",
       "<table border=\"1\" class=\"dataframe\">\n",
       "  <thead>\n",
       "    <tr style=\"text-align: right;\">\n",
       "      <th></th>\n",
       "      <th>DURATION</th>\n",
       "      <th>TEARDOWN</th>\n",
       "      <th>PDD</th>\n",
       "      <th>bin</th>\n",
       "      <th>0</th>\n",
       "      <th>1</th>\n",
       "      <th>2</th>\n",
       "      <th>3</th>\n",
       "    </tr>\n",
       "  </thead>\n",
       "  <tbody>\n",
       "    <tr>\n",
       "      <th>0</th>\n",
       "      <td>0</td>\n",
       "      <td>403</td>\n",
       "      <td>0</td>\n",
       "      <td>Night</td>\n",
       "      <td>0.0</td>\n",
       "      <td>0.0</td>\n",
       "      <td>0.0</td>\n",
       "      <td>1.0</td>\n",
       "    </tr>\n",
       "    <tr>\n",
       "      <th>1</th>\n",
       "      <td>0</td>\n",
       "      <td>403</td>\n",
       "      <td>0</td>\n",
       "      <td>Night</td>\n",
       "      <td>0.0</td>\n",
       "      <td>0.0</td>\n",
       "      <td>0.0</td>\n",
       "      <td>1.0</td>\n",
       "    </tr>\n",
       "    <tr>\n",
       "      <th>2</th>\n",
       "      <td>0</td>\n",
       "      <td>403</td>\n",
       "      <td>0</td>\n",
       "      <td>Night</td>\n",
       "      <td>0.0</td>\n",
       "      <td>0.0</td>\n",
       "      <td>0.0</td>\n",
       "      <td>1.0</td>\n",
       "    </tr>\n",
       "    <tr>\n",
       "      <th>3</th>\n",
       "      <td>0</td>\n",
       "      <td>503</td>\n",
       "      <td>2000</td>\n",
       "      <td>Night</td>\n",
       "      <td>0.0</td>\n",
       "      <td>0.0</td>\n",
       "      <td>0.0</td>\n",
       "      <td>1.0</td>\n",
       "    </tr>\n",
       "    <tr>\n",
       "      <th>4</th>\n",
       "      <td>0</td>\n",
       "      <td>503</td>\n",
       "      <td>1000</td>\n",
       "      <td>Night</td>\n",
       "      <td>0.0</td>\n",
       "      <td>0.0</td>\n",
       "      <td>0.0</td>\n",
       "      <td>1.0</td>\n",
       "    </tr>\n",
       "  </tbody>\n",
       "</table>\n",
       "</div>"
      ],
      "text/plain": [
       "   DURATION  TEARDOWN   PDD    bin    0    1    2    3\n",
       "0         0       403     0  Night  0.0  0.0  0.0  1.0\n",
       "1         0       403     0  Night  0.0  0.0  0.0  1.0\n",
       "2         0       403     0  Night  0.0  0.0  0.0  1.0\n",
       "3         0       503  2000  Night  0.0  0.0  0.0  1.0\n",
       "4         0       503  1000  Night  0.0  0.0  0.0  1.0"
      ]
     },
     "execution_count": 41,
     "metadata": {},
     "output_type": "execute_result"
    }
   ],
   "source": [
    "df.head()"
   ]
  },
  {
   "cell_type": "code",
   "execution_count": 54,
   "id": "17fc7282-ec58-4103-b554-4b07454055ea",
   "metadata": {},
   "outputs": [
    {
     "data": {
      "text/plain": [
       "LabelEncoder()"
      ]
     },
     "execution_count": 54,
     "metadata": {},
     "output_type": "execute_result"
    }
   ],
   "source": [
    "le = preprocessing.LabelEncoder()\n",
    "le.fit(df['TEARDOWN'])"
   ]
  },
  {
   "cell_type": "code",
   "execution_count": 42,
   "id": "9505e302-67cd-478a-bd3d-984ad23aaf17",
   "metadata": {},
   "outputs": [
    {
     "data": {
      "text/plain": [
       "[array(['Afternoon', 'Evening', 'Morning', 'Night'], dtype=object)]"
      ]
     },
     "execution_count": 42,
     "metadata": {},
     "output_type": "execute_result"
    }
   ],
   "source": [
    "enc.categories_"
   ]
  },
  {
   "cell_type": "code",
   "execution_count": 57,
   "id": "8a56225f-2075-4a50-b183-60fa985694f4",
   "metadata": {},
   "outputs": [],
   "source": [
    "X_train, X_test, y_train, y_test = train_test_split(df[[\"DURATION\", \"PDD\",0,1,2,3]], y, test_size=0.33, random_state=42)"
   ]
  },
  {
   "cell_type": "code",
   "execution_count": 60,
   "id": "41a0a71c-e157-4a4a-8616-9bab48132ce3",
   "metadata": {},
   "outputs": [],
   "source": []
  },
  {
   "cell_type": "code",
   "execution_count": 61,
   "id": "d9aa5f68-46f8-47f6-a23a-8440845448fc",
   "metadata": {},
   "outputs": [],
   "source": [
    "clf = make_pipeline(StandardScaler(), SVC(gamma='auto',kernel='rbf'))"
   ]
  },
  {
   "cell_type": "code",
   "execution_count": 62,
   "id": "f042c872-0ca5-4100-97d2-8f4c1462c0d8",
   "metadata": {},
   "outputs": [
    {
     "data": {
      "text/plain": [
       "Pipeline(steps=[('standardscaler', StandardScaler()),\n",
       "                ('svc', SVC(gamma='auto'))])"
      ]
     },
     "execution_count": 62,
     "metadata": {},
     "output_type": "execute_result"
    }
   ],
   "source": [
    "clf.fit(X_train, y_train)"
   ]
  },
  {
   "cell_type": "code",
   "execution_count": 63,
   "id": "20b37320-b8de-48ac-b0fc-fcab0ac0c5c2",
   "metadata": {},
   "outputs": [
    {
     "data": {
      "text/html": [
       "<div>\n",
       "<style scoped>\n",
       "    .dataframe tbody tr th:only-of-type {\n",
       "        vertical-align: middle;\n",
       "    }\n",
       "\n",
       "    .dataframe tbody tr th {\n",
       "        vertical-align: top;\n",
       "    }\n",
       "\n",
       "    .dataframe thead th {\n",
       "        text-align: right;\n",
       "    }\n",
       "</style>\n",
       "<table border=\"1\" class=\"dataframe\">\n",
       "  <thead>\n",
       "    <tr style=\"text-align: right;\">\n",
       "      <th></th>\n",
       "      <th>DURATION</th>\n",
       "      <th>PDD</th>\n",
       "      <th>0</th>\n",
       "      <th>1</th>\n",
       "      <th>2</th>\n",
       "      <th>3</th>\n",
       "    </tr>\n",
       "  </thead>\n",
       "  <tbody>\n",
       "    <tr>\n",
       "      <th>19639</th>\n",
       "      <td>0</td>\n",
       "      <td>5000</td>\n",
       "      <td>1.0</td>\n",
       "      <td>0.0</td>\n",
       "      <td>0.0</td>\n",
       "      <td>0.0</td>\n",
       "    </tr>\n",
       "    <tr>\n",
       "      <th>24126</th>\n",
       "      <td>0</td>\n",
       "      <td>2000</td>\n",
       "      <td>1.0</td>\n",
       "      <td>0.0</td>\n",
       "      <td>0.0</td>\n",
       "      <td>0.0</td>\n",
       "    </tr>\n",
       "    <tr>\n",
       "      <th>14804</th>\n",
       "      <td>0</td>\n",
       "      <td>2000</td>\n",
       "      <td>1.0</td>\n",
       "      <td>0.0</td>\n",
       "      <td>0.0</td>\n",
       "      <td>0.0</td>\n",
       "    </tr>\n",
       "    <tr>\n",
       "      <th>14614</th>\n",
       "      <td>0</td>\n",
       "      <td>1000</td>\n",
       "      <td>1.0</td>\n",
       "      <td>0.0</td>\n",
       "      <td>0.0</td>\n",
       "      <td>0.0</td>\n",
       "    </tr>\n",
       "    <tr>\n",
       "      <th>23877</th>\n",
       "      <td>0</td>\n",
       "      <td>0</td>\n",
       "      <td>1.0</td>\n",
       "      <td>0.0</td>\n",
       "      <td>0.0</td>\n",
       "      <td>0.0</td>\n",
       "    </tr>\n",
       "  </tbody>\n",
       "</table>\n",
       "</div>"
      ],
      "text/plain": [
       "       DURATION   PDD    0    1    2    3\n",
       "19639         0  5000  1.0  0.0  0.0  0.0\n",
       "24126         0  2000  1.0  0.0  0.0  0.0\n",
       "14804         0  2000  1.0  0.0  0.0  0.0\n",
       "14614         0  1000  1.0  0.0  0.0  0.0\n",
       "23877         0     0  1.0  0.0  0.0  0.0"
      ]
     },
     "execution_count": 63,
     "metadata": {},
     "output_type": "execute_result"
    }
   ],
   "source": [
    "X_train.head()"
   ]
  },
  {
   "cell_type": "code",
   "execution_count": 64,
   "id": "d4aa281e-ddc4-4e20-bd9a-bfcaca6c9022",
   "metadata": {},
   "outputs": [],
   "source": [
    "y_pred = clf.predict(X_test)"
   ]
  },
  {
   "cell_type": "code",
   "execution_count": 1,
   "id": "5af750a8-b547-4c56-baa6-60271d53ce31",
   "metadata": {},
   "outputs": [
    {
     "ename": "NameError",
     "evalue": "name 'accuracy_score' is not defined",
     "output_type": "error",
     "traceback": [
      "\u001b[0;31m---------------------------------------------------------------------------\u001b[0m",
      "\u001b[0;31mNameError\u001b[0m                                 Traceback (most recent call last)",
      "\u001b[0;32m/tmp/ipykernel_88296/1895249420.py\u001b[0m in \u001b[0;36m<module>\u001b[0;34m\u001b[0m\n\u001b[0;32m----> 1\u001b[0;31m \u001b[0mprint\u001b[0m\u001b[0;34m(\u001b[0m\u001b[0;34mf\"l'accurency est de {accuracy_score(y_test,y_pred)*100}%\"\u001b[0m\u001b[0;34m)\u001b[0m\u001b[0;34m\u001b[0m\u001b[0;34m\u001b[0m\u001b[0m\n\u001b[0m\u001b[1;32m      2\u001b[0m \u001b[0mprint\u001b[0m\u001b[0;34m(\u001b[0m\u001b[0;34mf\"le rappel est de {recall_score(y_test,y_pred,average='micro')*100}%\"\u001b[0m\u001b[0;34m)\u001b[0m\u001b[0;34m\u001b[0m\u001b[0;34m\u001b[0m\u001b[0m\n\u001b[1;32m      3\u001b[0m \u001b[0mprint\u001b[0m\u001b[0;34m(\u001b[0m\u001b[0;34mf\"le score f1 est de {f1_score(y_test,y_pred,average='micro')*100}%\"\u001b[0m\u001b[0;34m)\u001b[0m\u001b[0;34m\u001b[0m\u001b[0;34m\u001b[0m\u001b[0m\n",
      "\u001b[0;31mNameError\u001b[0m: name 'accuracy_score' is not defined"
     ]
    }
   ],
   "source": [
    "print(f\"l'accurency est de {accuracy_score(y_test,y_pred)*100}%\")\n",
    "print(f\"le rappel est de {recall_score(y_test,y_pred,average='micro')*100}%\")\n",
    "print(f\"le score f1 est de {f1_score(y_test,y_pred,average='micro')*100}%\")"
   ]
  },
  {
   "cell_type": "code",
   "execution_count": 69,
   "id": "3151f1a5-15d0-4fb6-b122-c67ed8f83fca",
   "metadata": {},
   "outputs": [
    {
     "data": {
      "text/plain": [
       "array([[ 459,    0,    0,    0,    0,   47],\n",
       "       [   0, 1730,    0,    0,    0,   26],\n",
       "       [   0,   21,    0,    0,    0, 1245],\n",
       "       [   0,    4,    0,    0,    0,    0],\n",
       "       [   1,    0,    0,    0,    0,    0],\n",
       "       [   1,    0,    0,    0,    0, 5692]])"
      ]
     },
     "execution_count": 69,
     "metadata": {},
     "output_type": "execute_result"
    }
   ],
   "source": [
    "confusion_matrix(y_test, y_pred)"
   ]
  },
  {
   "cell_type": "code",
   "execution_count": null,
   "id": "3cf85393-59a2-437d-b42d-d9244bd7d35c",
   "metadata": {},
   "outputs": [],
   "source": []
  }
 ],
 "metadata": {
  "kernelspec": {
   "display_name": "Python 3 (ipykernel)",
   "language": "python",
   "name": "python3"
  },
  "language_info": {
   "codemirror_mode": {
    "name": "ipython",
    "version": 3
   },
   "file_extension": ".py",
   "mimetype": "text/x-python",
   "name": "python",
   "nbconvert_exporter": "python",
   "pygments_lexer": "ipython3",
   "version": "3.9.7"
  }
 },
 "nbformat": 4,
 "nbformat_minor": 5
}
